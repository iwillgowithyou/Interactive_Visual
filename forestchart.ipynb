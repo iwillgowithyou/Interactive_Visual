{
 "cells": [
  {
   "cell_type": "markdown",
   "metadata": {},
   "source": [
    "# 2017年全国各省森林用地面积的情况\n",
    "- 内蒙古林业占地面积最大，高达4398万公顷，其中主要原因在于内蒙古省份面积大，并且沙土化情况严重，近年来，种植了大量的树林，对内蒙古的生态环境进行了改善。\n",
    "- 其次到云南、四川、黑龙江，分别为2501万公顷、2328万公顷、2207万公顷。其中云南和四川位于南方亚热带，有利于树林生长，黑龙江则是土壤肥沃，大面积的树林，有利于抵挡来自西方的风沙。\n",
    "- 相对的，中原一带，其中包括河南、湖北、山东、河北等省份的林业面积相对较低，均未过1000万公顷。"
   ]
  },
  {
   "cell_type": "code",
   "execution_count": null,
   "metadata": {},
   "outputs": [],
   "source": [
    "from pyecharts.faker import Faker\n",
    "from pyecharts import options as opts\n",
    "from pyecharts.charts import Geo\n",
    "from pyecharts.globals import ChartType, SymbolType\n",
    "import pandas as pd"
   ]
  },
  {
   "cell_type": "code",
   "execution_count": null,
   "metadata": {},
   "outputs": [],
   "source": [
    "df = pd.read_csv('Forest_area.csv',encoding='gbk')"
   ]
  },
  {
   "cell_type": "code",
   "execution_count": null,
   "metadata": {},
   "outputs": [],
   "source": [
    "def geo_base() -> Geo:\n",
    "    c = (\n",
    "        Geo()\n",
    "        .add_schema(maptype=\"china\")\n",
    "        .add(\"森林覆盖面积\", [list(z) for z in zip(list(df['地区']),list(df['2017年']))])\n",
    "        .set_series_opts(label_opts=opts.LabelOpts(is_show=False))\n",
    "        .set_global_opts(\n",
    "            visualmap_opts=opts.VisualMapOpts(max_=5000),\n",
    "            title_opts=opts.TitleOpts(title=\"森林覆盖面积\"),\n",
    "        )\n",
    "    )\n",
    "    return c"
   ]
  },
  {
   "cell_type": "code",
   "execution_count": null,
   "metadata": {},
   "outputs": [],
   "source": [
    "dq=list(dff['地区'].unique())\n",
    "time = list(dff['年份'].unique())\n",
    "times = []\n",
    "for i in time:\n",
    "    times.append(str(i))\n",
    "#time.remove('nan')\n",
    "#times.remove('nan')\n",
    "#times\n",
    "\n",
    "for i in time:\n",
    "    values = []\n",
    "    dff1 = dff[dff.年份 == i]\n",
    "    for d in dq:\n",
    "        dff2 = dff1[dff1.地区 == d]\n",
    "        values.append(sum(dff2['受灾面积']))\n",
    "    print(values)"
   ]
  },
  {
   "cell_type": "code",
   "execution_count": null,
   "metadata": {},
   "outputs": [],
   "source": [
    "from pyecharts.faker import Faker\n",
    "from pyecharts import options as opts\n",
    "from pyecharts.charts import Bar, Page, Pie, Timeline,Map\n",
    "import pandas as pd\n",
    "dff = pd.read_csv('area.csv',encoding='gbk')\n",
    "dq=list(dff['地区'].unique())\n",
    "def timeline_bar() -> Timeline:\n",
    "    x = dq\n",
    "    tl = Timeline()\n",
    "    for i in time:\n",
    "        values = []\n",
    "        dff1 = dff[dff.年份 == i]\n",
    "        for d in dq:\n",
    "            dff2 = dff1[dff1.地区 == d]\n",
    "            values.append(sum(dff2['受灾面积']))\n",
    "        bar = (\n",
    "            Bar()\n",
    "            .add_xaxis(dq)\n",
    "            .add_yaxis(\"受灾面积\", values)\n",
    "\n",
    "            .set_global_opts(title_opts=opts.TitleOpts(\"中国{}年受灾面积\".format(i)))\n",
    "        )\n",
    "        tl.add(bar, \"{}年\".format(i))\n",
    "    return tl\n",
    "timeline_bar().render_notebook()\n",
    "timeline_bar().render()"
   ]
  },
  {
   "cell_type": "code",
   "execution_count": null,
   "metadata": {},
   "outputs": [],
   "source": [
    "geo_base().render()"
   ]
  },
  {
   "cell_type": "markdown",
   "metadata": {},
   "source": [
    "# 2017年全国各省自然灾害面积的情况\n",
    "- 自然灾害主要包括洪涝、山体滑坡、泥石流和台风等灾害。\n",
    "- 河南、湖南、湖北一带和吉林省的自然灾害面积较广，其中河南自然灾害面积最广，高达933万公顷，其次到湖南、湖北和吉林。\n",
    "- 相对的，西北地区的自然灾害相对较少，其中原因在于西北地区天气干燥，同时身居内陆，不易受台风，洪涝等灾害的影响。"
   ]
  },
  {
   "cell_type": "code",
   "execution_count": null,
   "metadata": {},
   "outputs": [],
   "source": [
    "df1 = pd.read_csv('affected_area.csv',encoding='gbk')"
   ]
  },
  {
   "cell_type": "code",
   "execution_count": null,
   "metadata": {},
   "outputs": [],
   "source": [
    "def geo_heatmap() -> Geo:\n",
    "    c = (\n",
    "        Geo()\n",
    "        .add_schema(maptype=\"china\")\n",
    "        .add(\n",
    "            \"自然灾害面积\",\n",
    "            [list(z) for z in zip(list(df1['地区']),list(df1['2017年']))],\n",
    "            type_=ChartType.HEATMAP,\n",
    "        )\n",
    "        .set_series_opts(label_opts=opts.LabelOpts(is_show=False))\n",
    "        .set_global_opts(\n",
    "            visualmap_opts=opts.VisualMapOpts(max_=1000),\n",
    "            title_opts=opts.TitleOpts(title=\"自然灾害面积\"),\n",
    "        )\n",
    "    )\n",
    "    return c"
   ]
  },
  {
   "cell_type": "code",
   "execution_count": null,
   "metadata": {},
   "outputs": [],
   "source": [
    "geo_heatmap().render()"
   ]
  },
  {
   "cell_type": "code",
   "execution_count": null,
   "metadata": {},
   "outputs": [],
   "source": [
    "def geo_effectscatter() -> Geo:\n",
    "    c = (\n",
    "        Geo()\n",
    "        .add_schema(maptype=\"china\")\n",
    "        .add(\n",
    "            \"自然灾害面积\",\n",
    "            [list(z) for z in zip(list(df1['地区']),list(df1['2017年']))],\n",
    "            type_=ChartType.EFFECT_SCATTER,\n",
    "        )\n",
    "        .set_series_opts(label_opts=opts.LabelOpts(is_show=False))\n",
    "        .set_global_opts(title_opts=opts.TitleOpts(title=\"自然灾害受影响面积\"))\n",
    "    )\n",
    "    return c"
   ]
  },
  {
   "cell_type": "code",
   "execution_count": null,
   "metadata": {},
   "outputs": [],
   "source": [
    "geo_effectscatter().render()"
   ]
  },
  {
   "cell_type": "code",
   "execution_count": null,
   "metadata": {},
   "outputs": [],
   "source": [
    "from pyecharts.faker import Faker\n",
    "from pyecharts import options as opts\n",
    "from pyecharts.charts import Bar"
   ]
  },
  {
   "cell_type": "code",
   "execution_count": null,
   "metadata": {},
   "outputs": [],
   "source": [
    "df2 = pd.read_csv('henan_area.csv',encoding='gbk')"
   ]
  },
  {
   "cell_type": "code",
   "execution_count": null,
   "metadata": {},
   "outputs": [],
   "source": [
    "def bar_datazoom_slider() -> Bar:\n",
    "    c = (\n",
    "        Bar()\n",
    "        .add_xaxis(list(df2['年份']))\n",
    "        .add_yaxis(\"旱灾受灾面积\",list(df2['旱灾受灾面积(千公顷)']))\n",
    "        .set_global_opts(\n",
    "            title_opts=opts.TitleOpts(title=\"河南省自然灾害\"),\n",
    "            datazoom_opts=opts.DataZoomOpts(),\n",
    "        )\n",
    "    )\n",
    "    return c"
   ]
  },
  {
   "cell_type": "code",
   "execution_count": null,
   "metadata": {},
   "outputs": [],
   "source": [
    "bar_datazoom_slider().render()"
   ]
  },
  {
   "cell_type": "markdown",
   "metadata": {},
   "source": [
    "# 森林用地面积和自然灾害面积的关系\n",
    "- 从可视化数据中可分析出，自然灾害多发生于东南地区，其中河南、湖北、湖南一带的自然灾害面积是最大的，同时，树林的用地面积也是现对较少的。\n",
    "- 其中河南、湖北、湖南位于江河流域，树林面积的不足更为容易导致洪涝、山体滑坡、泥石流等灾害的发生，其间存在一定的关联性。"
   ]
  },
  {
   "cell_type": "code",
   "execution_count": null,
   "metadata": {},
   "outputs": [],
   "source": []
  }
 ],
 "metadata": {
  "kernelspec": {
   "display_name": "Python 3",
   "language": "python",
   "name": "python3"
  },
  "language_info": {
   "codemirror_mode": {
    "name": "ipython",
    "version": 3
   },
   "file_extension": ".py",
   "mimetype": "text/x-python",
   "name": "python",
   "nbconvert_exporter": "python",
   "pygments_lexer": "ipython3",
   "version": "3.7.4"
  }
 },
 "nbformat": 4,
 "nbformat_minor": 2
}
